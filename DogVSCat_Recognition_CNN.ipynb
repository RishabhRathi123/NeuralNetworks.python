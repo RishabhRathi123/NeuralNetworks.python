{
 "cells": [
  {
   "cell_type": "markdown",
   "id": "35be43ca-0fd7-4b70-82a2-6c5e7de1da17",
   "metadata": {},
   "source": [
    "# Importing Libraries\n"
   ]
  },
  {
   "cell_type": "code",
   "execution_count": 1,
   "id": "1b044864-eddf-402c-8318-07dc0e63a3ca",
   "metadata": {},
   "outputs": [],
   "source": [
    "import tensorflow as tf\n",
    "from tensorflow.keras.preprocessing.image import ImageDataGenerator"
   ]
  },
  {
   "cell_type": "code",
   "execution_count": 2,
   "id": "37817ad5-ca7f-4d84-ad50-3585e05b60a5",
   "metadata": {},
   "outputs": [
    {
     "data": {
      "text/plain": [
       "'2.16.1'"
      ]
     },
     "execution_count": 2,
     "metadata": {},
     "output_type": "execute_result"
    }
   ],
   "source": [
    "tf.__version__"
   ]
  },
  {
   "cell_type": "markdown",
   "id": "a7523f59-05c6-48b0-af4a-da306f4943a1",
   "metadata": {},
   "source": [
    "# Part-1 Data PreProcessing"
   ]
  },
  {
   "cell_type": "markdown",
   "id": "30f6fc41-aa3c-42e8-b531-5f09dd1a8500",
   "metadata": {},
   "source": [
    "PreProcessing the Training Set"
   ]
  },
  {
   "cell_type": "code",
   "execution_count": 3,
   "id": "7cf4f561-8ec7-4e99-a3cc-308b1d76d642",
   "metadata": {},
   "outputs": [
    {
     "name": "stdout",
     "output_type": "stream",
     "text": [
      "Found 8000 images belonging to 2 classes.\n"
     ]
    }
   ],
   "source": [
    "# To avoid Overfitting or Overlearning of CNN on these images, we'll apply tranformations on images='Image Augmentation'\n",
    "train_datagen = ImageDataGenerator(rescale = 1./255, # represents feature-scaling\n",
    "                                   shear_range = 0.2, \n",
    "                                   zoom_range = 0.2,\n",
    "                                   horizontal_flip = True)\n",
    "training_set = train_datagen.flow_from_directory('/Users/aaku/Desktop/dataset/training_set',\n",
    "                                                 target_size = (64, 64),\n",
    "                                                 batch_size = 32,\n",
    "                                                 class_mode = 'binary') # Mode of outcome(Cat/Dog)"
   ]
  },
  {
   "cell_type": "markdown",
   "id": "ae6fd8e4-3324-4799-bedb-ec2279c0d8b3",
   "metadata": {},
   "source": [
    "PreProcessing the Test Set"
   ]
  },
  {
   "cell_type": "code",
   "execution_count": 4,
   "id": "1b964696-42c6-42d5-9a0d-9bc7dd9aea64",
   "metadata": {},
   "outputs": [
    {
     "name": "stdout",
     "output_type": "stream",
     "text": [
      "Found 2000 images belonging to 2 classes.\n"
     ]
    }
   ],
   "source": [
    "test_datagen = ImageDataGenerator(rescale=1./255) # only feature scaling on test_set because \n",
    "# they are new to test the model and like we earlier used fit_transform in training_set but only transform in test_set, \n",
    "# so that there are no leakages in information of test_images.\n",
    "test_set = test_datagen.flow_from_directory('/Users/aaku/Desktop/dataset/test_set',\n",
    "                                           target_size=(64, 64),\n",
    "                                           batch_size = 32,\n",
    "                                           class_mode = 'binary')"
   ]
  },
  {
   "cell_type": "markdown",
   "id": "87d5ad2a-d432-4bdc-aa95-a9c91fc56500",
   "metadata": {},
   "source": [
    "# Part-2 Building CNN"
   ]
  },
  {
   "cell_type": "markdown",
   "id": "033d6769-5db1-4e54-829e-202d8d095589",
   "metadata": {},
   "source": [
    "Initializing the CNN"
   ]
  },
  {
   "cell_type": "code",
   "execution_count": 5,
   "id": "1c3e0c11-ad32-47d9-b902-07a09397f3a1",
   "metadata": {},
   "outputs": [],
   "source": [
    "cnn = tf.keras.models.Sequential() "
   ]
  },
  {
   "cell_type": "markdown",
   "id": "350211d2-6ecc-4191-8651-114136f927ca",
   "metadata": {},
   "source": [
    "Step-1 Convolution"
   ]
  },
  {
   "cell_type": "code",
   "execution_count": 6,
   "id": "3047ef5d-86de-435b-91bb-893394bf7b43",
   "metadata": {},
   "outputs": [
    {
     "name": "stderr",
     "output_type": "stream",
     "text": [
      "/Users/aaku/anaconda3/lib/python3.10/site-packages/keras/src/layers/convolutional/base_conv.py:107: UserWarning: Do not pass an `input_shape`/`input_dim` argument to a layer. When using Sequential models, prefer using an `Input(shape)` object as the first layer in the model instead.\n",
      "  super().__init__(activity_regularizer=activity_regularizer, **kwargs)\n"
     ]
    }
   ],
   "source": [
    "cnn.add(tf.keras.layers.Conv2D(filters=32, kernel_size=3, activation='relu', input_shape=[64,64,3])) \n",
    "# filters=32 --> As in most common architectures and input_shape=[64,64-->(We entered target_size of (64,64)), 3-->RGB Img.]"
   ]
  },
  {
   "cell_type": "markdown",
   "id": "19b24b43-c60c-4da2-991b-027cc73d279f",
   "metadata": {},
   "source": [
    "Step-2 Pooling"
   ]
  },
  {
   "cell_type": "code",
   "execution_count": 7,
   "id": "be8a3cf7-21f3-49bb-a48a-f9738564eabb",
   "metadata": {},
   "outputs": [],
   "source": [
    "cnn.add(tf.keras.layers.MaxPool2D(pool_size=2, strides=2))\n",
    "# strides refer to the step size or the shift applied to the pooling window as it traverses the input feature map."
   ]
  },
  {
   "cell_type": "markdown",
   "id": "657320f8-6f31-4395-b29c-7d13d8df57ae",
   "metadata": {},
   "source": [
    "Adding a second convolutional layer"
   ]
  },
  {
   "cell_type": "code",
   "execution_count": 8,
   "id": "95d5e859-fcf5-4f01-bf78-5175890d46e3",
   "metadata": {},
   "outputs": [],
   "source": [
    "cnn.add(tf.keras.layers.Conv2D(filters=32, kernel_size=3, activation='relu'))\n",
    "cnn.add(tf.keras.layers.MaxPool2D(pool_size=2, strides=2))"
   ]
  },
  {
   "cell_type": "markdown",
   "id": "08c03565-ac3c-4587-9cbd-e27eb98bb2a8",
   "metadata": {},
   "source": [
    "Step-3 Flattening"
   ]
  },
  {
   "cell_type": "code",
   "execution_count": 9,
   "id": "d93dd5f6-3c33-4b07-8b72-33764367e076",
   "metadata": {},
   "outputs": [],
   "source": [
    "cnn.add(tf.keras.layers.Flatten())"
   ]
  },
  {
   "cell_type": "markdown",
   "id": "c56e70f3-1536-4b67-8669-9135c0cf48ce",
   "metadata": {},
   "source": [
    "Step-4 Full Connection"
   ]
  },
  {
   "cell_type": "code",
   "execution_count": 10,
   "id": "96dc44f9-c830-4bd0-b99d-cf83c8e44d00",
   "metadata": {},
   "outputs": [],
   "source": [
    "cnn.add(tf.keras.layers.Dense(units=128, activation='relu'))"
   ]
  },
  {
   "cell_type": "markdown",
   "id": "ea99c8ac-cf3d-4ac5-b936-61e3a7aa6bbf",
   "metadata": {},
   "source": [
    "Step-5 Output Layer"
   ]
  },
  {
   "cell_type": "code",
   "execution_count": 11,
   "id": "2d47cc7f-b0f9-43f2-bf8d-fd067176654b",
   "metadata": {},
   "outputs": [],
   "source": [
    "cnn.add(tf.keras.layers.Dense(units=1, activation='sigmoid')) # Binary Classification"
   ]
  },
  {
   "cell_type": "markdown",
   "id": "fa4b31a3-acc9-482c-a064-18879b8d2f8b",
   "metadata": {},
   "source": [
    "# Part-3 Training the CNN"
   ]
  },
  {
   "cell_type": "markdown",
   "id": "80954b2c-4fa0-4a08-b58d-1e69c8ea45de",
   "metadata": {},
   "source": [
    "Compiling the CNN"
   ]
  },
  {
   "cell_type": "code",
   "execution_count": 12,
   "id": "c4989599-cfe0-4b04-8179-905c541eb213",
   "metadata": {},
   "outputs": [],
   "source": [
    "cnn.compile(optimizer='adam', loss='binary_crossentropy', metrics=['accuracy'])"
   ]
  },
  {
   "cell_type": "markdown",
   "id": "392a4edd-d211-4c3b-9ff6-647988fc2d24",
   "metadata": {},
   "source": [
    "Training the CNN over training_set and evaluating it on test_set "
   ]
  },
  {
   "cell_type": "code",
   "execution_count": null,
   "id": "308ed5d2-2404-4757-9533-9de7c23a0aad",
   "metadata": {},
   "outputs": [
    {
     "name": "stdout",
     "output_type": "stream",
     "text": [
      "Epoch 1/25\n"
     ]
    },
    {
     "name": "stderr",
     "output_type": "stream",
     "text": [
      "/Users/aaku/anaconda3/lib/python3.10/site-packages/keras/src/trainers/data_adapters/py_dataset_adapter.py:121: UserWarning: Your `PyDataset` class should call `super().__init__(**kwargs)` in its constructor. `**kwargs` can include `workers`, `use_multiprocessing`, `max_queue_size`. Do not pass these arguments to `fit()`, as they will be ignored.\n",
      "  self._warn_if_super_not_called()\n"
     ]
    },
    {
     "name": "stdout",
     "output_type": "stream",
     "text": [
      "\u001b[1m250/250\u001b[0m \u001b[32m━━━━━━━━━━━━━━━━━━━━\u001b[0m\u001b[37m\u001b[0m \u001b[1m19s\u001b[0m 74ms/step - accuracy: 0.5552 - loss: 0.6902 - val_accuracy: 0.5035 - val_loss: 0.8394\n",
      "Epoch 2/25\n",
      "\u001b[1m250/250\u001b[0m \u001b[32m━━━━━━━━━━━━━━━━━━━━\u001b[0m\u001b[37m\u001b[0m \u001b[1m19s\u001b[0m 73ms/step - accuracy: 0.6299 - loss: 0.6503 - val_accuracy: 0.6855 - val_loss: 0.5871\n",
      "Epoch 3/25\n",
      "\u001b[1m250/250\u001b[0m \u001b[32m━━━━━━━━━━━━━━━━━━━━\u001b[0m\u001b[37m\u001b[0m \u001b[1m19s\u001b[0m 75ms/step - accuracy: 0.6785 - loss: 0.5925 - val_accuracy: 0.7130 - val_loss: 0.5633\n",
      "Epoch 4/25\n",
      "\u001b[1m250/250\u001b[0m \u001b[32m━━━━━━━━━━━━━━━━━━━━\u001b[0m\u001b[37m\u001b[0m \u001b[1m19s\u001b[0m 73ms/step - accuracy: 0.7169 - loss: 0.5513 - val_accuracy: 0.7390 - val_loss: 0.5318\n",
      "Epoch 5/25\n",
      "\u001b[1m250/250\u001b[0m \u001b[32m━━━━━━━━━━━━━━━━━━━━\u001b[0m\u001b[37m\u001b[0m \u001b[1m19s\u001b[0m 74ms/step - accuracy: 0.7413 - loss: 0.5208 - val_accuracy: 0.7125 - val_loss: 0.5690\n",
      "Epoch 6/25\n",
      "\u001b[1m250/250\u001b[0m \u001b[32m━━━━━━━━━━━━━━━━━━━━\u001b[0m\u001b[37m\u001b[0m \u001b[1m19s\u001b[0m 73ms/step - accuracy: 0.7498 - loss: 0.5062 - val_accuracy: 0.7400 - val_loss: 0.5184\n",
      "Epoch 7/25\n",
      "\u001b[1m250/250\u001b[0m \u001b[32m━━━━━━━━━━━━━━━━━━━━\u001b[0m\u001b[37m\u001b[0m \u001b[1m19s\u001b[0m 74ms/step - accuracy: 0.7730 - loss: 0.4739 - val_accuracy: 0.7630 - val_loss: 0.5068\n",
      "Epoch 8/25\n",
      "\u001b[1m250/250\u001b[0m \u001b[32m━━━━━━━━━━━━━━━━━━━━\u001b[0m\u001b[37m\u001b[0m \u001b[1m19s\u001b[0m 75ms/step - accuracy: 0.7734 - loss: 0.4664 - val_accuracy: 0.7830 - val_loss: 0.4755\n",
      "Epoch 9/25\n",
      "\u001b[1m250/250\u001b[0m \u001b[32m━━━━━━━━━━━━━━━━━━━━\u001b[0m\u001b[37m\u001b[0m \u001b[1m19s\u001b[0m 73ms/step - accuracy: 0.7916 - loss: 0.4342 - val_accuracy: 0.7820 - val_loss: 0.5063\n",
      "Epoch 10/25\n",
      "\u001b[1m250/250\u001b[0m \u001b[32m━━━━━━━━━━━━━━━━━━━━\u001b[0m\u001b[37m\u001b[0m \u001b[1m20s\u001b[0m 80ms/step - accuracy: 0.8085 - loss: 0.4076 - val_accuracy: 0.7530 - val_loss: 0.5011\n",
      "Epoch 11/25\n",
      "\u001b[1m250/250\u001b[0m \u001b[32m━━━━━━━━━━━━━━━━━━━━\u001b[0m\u001b[37m\u001b[0m \u001b[1m20s\u001b[0m 77ms/step - accuracy: 0.8076 - loss: 0.4088 - val_accuracy: 0.7980 - val_loss: 0.4569\n",
      "Epoch 12/25\n",
      "\u001b[1m250/250\u001b[0m \u001b[32m━━━━━━━━━━━━━━━━━━━━\u001b[0m\u001b[37m\u001b[0m \u001b[1m20s\u001b[0m 77ms/step - accuracy: 0.8059 - loss: 0.4037 - val_accuracy: 0.7830 - val_loss: 0.4830\n",
      "Epoch 13/25\n",
      "\u001b[1m250/250\u001b[0m \u001b[32m━━━━━━━━━━━━━━━━━━━━\u001b[0m\u001b[37m\u001b[0m \u001b[1m21s\u001b[0m 82ms/step - accuracy: 0.8215 - loss: 0.3842 - val_accuracy: 0.8050 - val_loss: 0.4602\n",
      "Epoch 14/25\n",
      "\u001b[1m250/250\u001b[0m \u001b[32m━━━━━━━━━━━━━━━━━━━━\u001b[0m\u001b[37m\u001b[0m \u001b[1m20s\u001b[0m 79ms/step - accuracy: 0.8462 - loss: 0.3496 - val_accuracy: 0.7980 - val_loss: 0.4761\n",
      "Epoch 15/25\n",
      "\u001b[1m250/250\u001b[0m \u001b[32m━━━━━━━━━━━━━━━━━━━━\u001b[0m\u001b[37m\u001b[0m \u001b[1m20s\u001b[0m 79ms/step - accuracy: 0.8492 - loss: 0.3406 - val_accuracy: 0.8025 - val_loss: 0.4533\n",
      "Epoch 16/25\n",
      "\u001b[1m250/250\u001b[0m \u001b[32m━━━━━━━━━━━━━━━━━━━━\u001b[0m\u001b[37m\u001b[0m \u001b[1m21s\u001b[0m 81ms/step - accuracy: 0.8594 - loss: 0.3215 - val_accuracy: 0.7960 - val_loss: 0.4627\n",
      "Epoch 17/25\n",
      "\u001b[1m 69/250\u001b[0m \u001b[32m━━━━━\u001b[0m\u001b[37m━━━━━━━━━━━━━━━\u001b[0m \u001b[1m13s\u001b[0m 72ms/step - accuracy: 0.8798 - loss: 0.2839"
     ]
    }
   ],
   "source": [
    "cnn.fit(x = training_set, validation_data = test_set, epochs = 25)"
   ]
  },
  {
   "cell_type": "code",
   "execution_count": null,
   "id": "c50f4c0f-0e88-4964-acd4-d83f44961c41",
   "metadata": {},
   "outputs": [],
   "source": [
    "import numpy as np\n",
    "from keras.preprocessing import image\n",
    "test_image = image.load_img('/Users/aaku/Desktop/dataset/single_prediction/cat_or_dog_4.jpg', target_size = (64, 64))\n",
    "test_image = image.img_to_array(test_image)\n",
    "test_image = np.expand_dims(test_image, axis = 0)\n",
    "# If test_image is a single image represented as a 2D array (height, width) or a 3D array (height, width, channels), \n",
    "# it does not have the required batch dimension. To make it compatible with the expected input shape, \n",
    "# we need to add an extra dimension to represent the batch size.\n",
    "\n",
    "result = cnn.predict(test_image)\n",
    "training_set.class_indices\n",
    "if result[0][0] == 1: # result[batch][element of the batch]\n",
    "  prediction = 'dog'\n",
    "else:\n",
    "  prediction = 'cat'\n",
    "\n",
    "print(prediction)"
   ]
  },
  {
   "cell_type": "code",
   "execution_count": null,
   "id": "a132a197-9f06-4652-a739-6b955a072ca3",
   "metadata": {},
   "outputs": [],
   "source": [
    "# If Image-Augmentation wouldn't have been there, then training-accuracy would have been very high aroung 97% and \n",
    "# test-accuracy would have been lower around 50%...Therefore, Image-Augmentation is necessary."
   ]
  }
 ],
 "metadata": {
  "kernelspec": {
   "display_name": "Python 3 (ipykernel)",
   "language": "python",
   "name": "python3"
  },
  "language_info": {
   "codemirror_mode": {
    "name": "ipython",
    "version": 3
   },
   "file_extension": ".py",
   "mimetype": "text/x-python",
   "name": "python",
   "nbconvert_exporter": "python",
   "pygments_lexer": "ipython3",
   "version": "3.10.9"
  }
 },
 "nbformat": 4,
 "nbformat_minor": 5
}
